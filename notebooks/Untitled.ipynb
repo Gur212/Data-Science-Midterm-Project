{
 "cells": [
  {
   "cell_type": "code",
   "execution_count": 1,
   "id": "1172d425-a731-4c68-8fc8-f4b053868067",
   "metadata": {},
   "outputs": [],
   "source": [
    "import pandas as pd\n",
    "import numpy as np\n",
    "import os\n",
    "import json\n",
    "import statistics as stats\n",
    "from pprint import pprint\n",
    "from functions_variables import encode_tags"
   ]
  },
  {
   "cell_type": "code",
   "execution_count": 2,
   "id": "58142301-c332-475a-8f57-314ff7a29bed",
   "metadata": {},
   "outputs": [],
   "source": [
    "xtrain = pd.read_csv('../data/preprocessed/X_train.csv')"
   ]
  },
  {
   "cell_type": "code",
   "execution_count": 4,
   "id": "0bae678c-eaca-43c8-8ee0-ce0a3d7247aa",
   "metadata": {},
   "outputs": [
    {
     "name": "stdout",
     "output_type": "stream",
     "text": [
      "<class 'pandas.core.frame.DataFrame'>\n",
      "RangeIndex: 4680 entries, 0 to 4679\n",
      "Data columns (total 39 columns):\n",
      " #   Column                        Non-Null Count  Dtype  \n",
      "---  ------                        --------------  -----  \n",
      " 0   Unnamed: 0                    4680 non-null   int64  \n",
      " 1   list_date                     4503 non-null   object \n",
      " 2   description.year_built        4680 non-null   float64\n",
      " 3   description.baths_3qtr        4680 non-null   float64\n",
      " 4   description.sold_date         4680 non-null   object \n",
      " 5   description.baths_full        4680 non-null   float64\n",
      " 6   description.baths_half        4680 non-null   float64\n",
      " 7   description.lot_sqft          4048 non-null   float64\n",
      " 8   description.sqft              4446 non-null   float64\n",
      " 9   description.baths             4680 non-null   float64\n",
      " 10  description.sub_type          833 non-null    object \n",
      " 11  description.garage            4680 non-null   float64\n",
      " 12  description.stories           4680 non-null   float64\n",
      " 13  description.beds              4676 non-null   float64\n",
      " 14  location.address.postal_code  4680 non-null   int64  \n",
      " 15  location.address.state        4680 non-null   float64\n",
      " 16  location.address.city         4675 non-null   float64\n",
      " 17  location.address.state_code   4680 non-null   object \n",
      " 18  location.county.name          4676 non-null   object \n",
      " 19  filtered_tags                 4680 non-null   object \n",
      " 20  basement                      4680 non-null   int64  \n",
      " 21  central_air                   4680 non-null   int64  \n",
      " 22  community_outdoor_space       4680 non-null   int64  \n",
      " 23  dishwasher                    4680 non-null   int64  \n",
      " 24  fireplace                     4680 non-null   int64  \n",
      " 25  forced_air                    4680 non-null   int64  \n",
      " 26  hardwood_floors               4680 non-null   int64  \n",
      " 27  laundry_room                  4680 non-null   int64  \n",
      " 28  recreation_facilities         4680 non-null   int64  \n",
      " 29  shopping                      4680 non-null   int64  \n",
      " 30  washer_dryer                  4680 non-null   int64  \n",
      " 31  apartment                     4680 non-null   int64  \n",
      " 32  condos                        4680 non-null   int64  \n",
      " 33  duplex_triplex                4680 non-null   int64  \n",
      " 34  land                          4680 non-null   int64  \n",
      " 35  mobile                        4680 non-null   int64  \n",
      " 36  multi_family                  4680 non-null   int64  \n",
      " 37  single_family                 4680 non-null   int64  \n",
      " 38  townhomes                     4680 non-null   int64  \n",
      "dtypes: float64(12), int64(21), object(6)\n",
      "memory usage: 1.4+ MB\n"
     ]
    }
   ],
   "source": [
    "xtrain.info()"
   ]
  },
  {
   "cell_type": "code",
   "execution_count": null,
   "id": "75df2ffd-f30f-4440-9b4d-d7920549b439",
   "metadata": {},
   "outputs": [],
   "source": [
    "xtrain['description.type'].loca"
   ]
  }
 ],
 "metadata": {
  "kernelspec": {
   "display_name": "Python 3 (ipykernel)",
   "language": "python",
   "name": "python3"
  },
  "language_info": {
   "codemirror_mode": {
    "name": "ipython",
    "version": 3
   },
   "file_extension": ".py",
   "mimetype": "text/x-python",
   "name": "python",
   "nbconvert_exporter": "python",
   "pygments_lexer": "ipython3",
   "version": "3.12.3"
  }
 },
 "nbformat": 4,
 "nbformat_minor": 5
}
